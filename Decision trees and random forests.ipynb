{
 "cells": [
  {
   "cell_type": "code",
   "execution_count": 68,
   "metadata": {},
   "outputs": [],
   "source": [
    "#Load the usual suspects\n",
    "\n",
    "import pandas as pd\n",
    "import numpy as np\n",
    "import seaborn as sns\n",
    "import matplotlib.pyplot as plt\n",
    "%matplotlib inline\n",
    "from sklearn.pipeline import Pipeline\n",
    "from sklearn.model_selection import train_test_split, ParameterGrid\n",
    "from sklearn.preprocessing import StandardScaler, MinMaxScaler\n",
    "from sklearn.decomposition import PCA\n",
    "from sklearn.tree import DecisionTreeClassifier\n",
    "from sklearn.ensemble import RandomForestClassifier"
   ]
  },
  {
   "cell_type": "code",
   "execution_count": 69,
   "metadata": {},
   "outputs": [
    {
     "name": "stdout",
     "output_type": "stream",
     "text": [
      "Pixels : (5000, 3072) Overfeat: (5000, 4096) Labels: (5000,) Names: (4,) Allow pickle: ()\n"
     ]
    }
   ],
   "source": [
    "# Load the data\n",
    "\n",
    "with np.load('/Users/David/Desktop/EPFL Applied ML/cifar4-train.npz', allow_pickle=False) as npz_file:\n",
    "    pixels = npz_file['pixels'].astype('float32')\n",
    "    overfeat = npz_file['overfeat']\n",
    "    labels = npz_file['labels']\n",
    "    names = npz_file['names']\n",
    "    allow = npz_file['allow_pickle']\n",
    "    \n",
    "print('Pixels : {:}'.format(pixels.shape),\n",
    "      'Overfeat: {:}'.format(overfeat.shape),\n",
    "      'Labels: {:}'.format(labels.shape),\n",
    "      'Names: {:}'.format(names.shape), \n",
    "      'Allow pickle: {:}'.format(allow.shape))"
   ]
  },
  {
   "cell_type": "code",
   "execution_count": 70,
   "metadata": {},
   "outputs": [
    {
     "name": "stdout",
     "output_type": "stream",
     "text": [
      "Train set: (3200, 4096) Test set: (1000, 4096) Validation set: (800, 4096)\n"
     ]
    }
   ],
   "source": [
    "# Rename the data and split into train (3200), test (1000) and validation (800) sets\n",
    "X_ov = overfeat\n",
    "X_px = pixels\n",
    "y = labels\n",
    "\n",
    "X_ov_tr, X_ov_te, X_px_tr, X_px_te, y_tr, y_te = train_test_split(X_ov, X_px, y, test_size=1000, stratify=y, random_state=0)\n",
    "X_ov_tr, X_ov_val, X_px_tr, X_px_val, y_tr, y_val = train_test_split(X_ov_tr, X_px_tr, y_tr, test_size=800, stratify=y_tr, random_state=0)\n",
    "\n",
    "# Double check dimensions for the overfeat data:\n",
    "print('Train set: {:}'.format(X_ov_tr.shape), 'Test set: {:}'.format(X_ov_te.shape), 'Validation set: {:}'.format(X_ov_val.shape))"
   ]
  },
  {
   "cell_type": "code",
   "execution_count": 71,
   "metadata": {},
   "outputs": [],
   "source": [
    "# Create a decision tree using a pipeline:\n",
    "\n",
    "dt_pipe = Pipeline([\n",
    "    ('scaler', StandardScaler()), # scaling step. A decision tree does not depend on distance so this step could be skipped\n",
    "    ('pca', PCA(n_components=176)), # pca step with 176 to get 90% of the proportion of variance explained. It also reduces dimensionality, which increases algorithm speed and accuracy\n",
    "    ('dt', DecisionTreeClassifier()) # leave default settings\n",
    "])\n",
    "\n",
    "# Create a list with the iterable values to feed the decision tree model\n",
    "depth = [None, 1, 2, 5, 10, 15, 20, 50, 100, 250] # list of potential tree depths \n",
    "\n",
    "# Create grid search object\n",
    "dt_grid = ParameterGrid({\n",
    "    'dt__max_depth' : depth\n",
    "})\n",
    "\n",
    "# Save accuracy on training and validation sets, starting with an empty list\n",
    "dt_scores = []\n",
    "\n",
    "for i in dt_grid:\n",
    "    # Set parameters\n",
    "    dt_pipe.set_params(**i)\n",
    "\n",
    "    # Fit the decision tree classifier\n",
    "    dt_pipe.fit(X_ov_tr, y_tr)\n",
    "\n",
    "    # Save accuracy on training set and add them to the training results\n",
    "    i['train accuracy'] = dt_pipe.score(X_ov_tr, y_tr)\n",
    "    i['validation accuracy'] = dt_pipe.score(X_ov_val, y_val)\n",
    "    dt_scores.append(i)"
   ]
  },
  {
   "cell_type": "code",
   "execution_count": 72,
   "metadata": {},
   "outputs": [
    {
     "name": "stdout",
     "output_type": "stream",
     "text": [
      "Top accuracy on validation set: 0.67250 for depth: 5\n"
     ]
    }
   ],
   "source": [
    "# Put everything nicely into a dataframe and print the best validation accuracies\n",
    "dt_df = pd.DataFrame(dt_scores) # create a dataframe from a dictionary\n",
    "dt_df.columns = ['tree depth', 'train accuracy', 'validation accuracy'] # column names\n",
    "dt_df.replace({'tree depth': {np.nan: None}}, inplace=True) # tree depth mapping\n",
    "\n",
    "print('Top accuracy on validation set: {:.5f}'.format(dt_df['validation accuracy'].max()), \n",
    "      'for depth: {:.0f}'.format(dt_df['tree depth'][dt_df['validation accuracy'].idxmax()]))"
   ]
  },
  {
   "cell_type": "code",
   "execution_count": 73,
   "metadata": {},
   "outputs": [
    {
     "data": {
      "image/png": "[encoded data removed]",
      "text/plain": [
       "<matplotlib.figure.Figure at 0x1a26226668>"
      ]
     },
     "metadata": {},
     "output_type": "display_data"
    }
   ],
   "source": [
    "# Plot the training and validation curves\n",
    "\n",
    "plt.plot(dt_df['tree depth'], dt_df['train accuracy'], label='train set')\n",
    "plt.plot(dt_df['tree depth'], dt_df['validation accuracy'], label='validation set')\n",
    "\n",
    "plt.legend()\n",
    "plt.xlabel('tree depth')\n",
    "plt.ylabel('decision tree accuracy')\n",
    "\n",
    "plt.show() #the train accuracy reaches 1.0 pretty quickly, which means that it is overfitting quite rapidly with increasing tree depth. This is translated to the validation set, with the model losing generality when the training set overfits the data."
   ]
  },
  {
   "cell_type": "code",
   "execution_count": 74,
   "metadata": {},
   "outputs": [],
   "source": [
    "# Create a random forest using a pipeline:\n",
    "\n",
    "rf_pipe = Pipeline([\n",
    "    ('scaler', StandardScaler()), # scaling step. A decision tree does not depend on distance so this step could be skipped\n",
    "    ('pca', PCA(n_components=176)), # pca step with 176 to get 90% of the proportion of variance explained. It also reduces dimensionality, which increases algorithm speed and accuracy\n",
    "    ('rf', RandomForestClassifier()) # leave default settings\n",
    "])\n",
    "\n",
    "# Create a list with the iterable values to feed the random model\n",
    "forest = [5, 10, 50, 100, 200]\n",
    "depth = [None, 1, 2, 5, 10, 15, 20, 50, 100] # list of potential tree depths \n",
    "\n",
    "# Create grid search object\n",
    "rf_grid = ParameterGrid({\n",
    "    'rf__max_depth' : depth,\n",
    "    'rf__n_estimators' : forest\n",
    "})\n",
    "\n",
    "# Save accuracy on training and validation sets, starting with an empty list\n",
    "rf_scores = []\n",
    "\n",
    "for i in rf_grid:\n",
    "    # Set parameters\n",
    "    rf_pipe.set_params(**i)\n",
    "\n",
    "    # Fit the random forest classifier\n",
    "    rf_pipe.fit(X_ov_tr, y_tr)\n",
    "\n",
    "    # Save accuracy on training set and add them to the training results\n",
    "    i['validation accuracy'] = rf_pipe.score(X_ov_val, y_val)\n",
    "    rf_scores.append(i)"
   ]
  },
  {
   "cell_type": "code",
   "execution_count": 75,
   "metadata": {},
   "outputs": [
    {
     "name": "stdout",
     "output_type": "stream",
     "text": [
      "Top accuracy on validation set: 0.78500 for number of trees: 200\n"
     ]
    },
    {
     "data": {
      "text/html": [
       "<div>\n",
       "<style scoped>\n",
       "    .dataframe tbody tr th:only-of-type {\n",
       "        vertical-align: middle;\n",
       "    }\n",
       "\n",
       "    .dataframe tbody tr th {\n",
       "        vertical-align: top;\n",
       "    }\n",
       "\n",
       "    .dataframe thead th {\n",
       "        text-align: right;\n",
       "    }\n",
       "</style>\n",
       "<table border=\"1\" class=\"dataframe\">\n",
       "  <thead>\n",
       "    <tr style=\"text-align: right;\">\n",
       "      <th></th>\n",
       "      <th>tree depth</th>\n",
       "      <th>number of trees</th>\n",
       "      <th>validation accuracy</th>\n",
       "    </tr>\n",
       "  </thead>\n",
       "  <tbody>\n",
       "    <tr>\n",
       "      <th>24</th>\n",
       "      <td>10</td>\n",
       "      <td>200</td>\n",
       "      <td>0.78500</td>\n",
       "    </tr>\n",
       "    <tr>\n",
       "      <th>39</th>\n",
       "      <td>50</td>\n",
       "      <td>200</td>\n",
       "      <td>0.77125</td>\n",
       "    </tr>\n",
       "    <tr>\n",
       "      <th>34</th>\n",
       "      <td>20</td>\n",
       "      <td>200</td>\n",
       "      <td>0.77000</td>\n",
       "    </tr>\n",
       "    <tr>\n",
       "      <th>3</th>\n",
       "      <td>None</td>\n",
       "      <td>100</td>\n",
       "      <td>0.77000</td>\n",
       "    </tr>\n",
       "    <tr>\n",
       "      <th>4</th>\n",
       "      <td>None</td>\n",
       "      <td>200</td>\n",
       "      <td>0.77000</td>\n",
       "    </tr>\n",
       "    <tr>\n",
       "      <th>38</th>\n",
       "      <td>50</td>\n",
       "      <td>100</td>\n",
       "      <td>0.76500</td>\n",
       "    </tr>\n",
       "    <tr>\n",
       "      <th>28</th>\n",
       "      <td>15</td>\n",
       "      <td>100</td>\n",
       "      <td>0.76375</td>\n",
       "    </tr>\n",
       "    <tr>\n",
       "      <th>29</th>\n",
       "      <td>15</td>\n",
       "      <td>200</td>\n",
       "      <td>0.76125</td>\n",
       "    </tr>\n",
       "    <tr>\n",
       "      <th>44</th>\n",
       "      <td>100</td>\n",
       "      <td>200</td>\n",
       "      <td>0.75875</td>\n",
       "    </tr>\n",
       "    <tr>\n",
       "      <th>37</th>\n",
       "      <td>50</td>\n",
       "      <td>50</td>\n",
       "      <td>0.75750</td>\n",
       "    </tr>\n",
       "  </tbody>\n",
       "</table>\n",
       "</div>"
      ],
      "text/plain": [
       "   tree depth  number of trees  validation accuracy\n",
       "24         10              200              0.78500\n",
       "39         50              200              0.77125\n",
       "34         20              200              0.77000\n",
       "3        None              100              0.77000\n",
       "4        None              200              0.77000\n",
       "38         50              100              0.76500\n",
       "28         15              100              0.76375\n",
       "29         15              200              0.76125\n",
       "44        100              200              0.75875\n",
       "37         50               50              0.75750"
      ]
     },
     "execution_count": 75,
     "metadata": {},
     "output_type": "execute_result"
    }
   ],
   "source": [
    "# Put everything nicely into a dataframe and print the best validation accuracy\n",
    "rf_df = pd.DataFrame(rf_scores) # create a dataframe from a dictionary\n",
    "rf_df.columns = ['tree depth', 'number of trees', 'validation accuracy'] # column names\n",
    "rf_df.replace({'tree depth': {np.nan: None}}, inplace=True) # tree depth mapping\n",
    "\n",
    "print('Top accuracy on validation set: {:.5f}'.format(rf_df['validation accuracy'].max()), \n",
    "      'for number of trees: {:.0f}'.format(rf_df['number of trees'][rf_df['validation accuracy'].idxmax()]))\n",
    "\n",
    "rf_df.sort_values(by='validation accuracy', ascending=False).head(10) # dataframe showing the 10 cases with the best validation accuracies"
   ]
  },
  {
   "cell_type": "code",
   "execution_count": 76,
   "metadata": {},
   "outputs": [
    {
     "name": "stdout",
     "output_type": "stream",
     "text": [
      "Decision tree accuracy (test set): 0.66500\n",
      "Random forest accuracy (test set): 0.77800\n"
     ]
    }
   ],
   "source": [
    "# Finally, fit your (tuned) decision tree and random forest estimators on the entire train set with 4,000 data points and evaluate them on the test set. Print the accuracy values.\n",
    "\n",
    "# For the decision tree classifier\n",
    "dt_pipe.set_params(dt__max_depth=dt_df['tree depth'][dt_df['validation accuracy'].idxmax()]).fit(X_ov_tr, y_tr)\n",
    "\n",
    "print('Decision tree accuracy (test set): {:.5f}'.format(dt_pipe.score(X_ov_te, y_te)))\n",
    "\n",
    "# For the random forest classifier\n",
    "rf_pipe.set_params(rf__max_depth=rf_df['tree depth'][rf_df['validation accuracy'].idxmax()],\n",
    "                  rf__n_estimators=rf_df['number of trees'][rf_df['validation accuracy'].idxmax()]).fit(X_ov_tr, y_tr)\n",
    "\n",
    "print('Random forest accuracy (test set): {:.5f}'.format(rf_pipe.score(X_ov_te, y_te)))\n",
    "\n",
    "#as expected, the random forest is able to generalize better to the data while avoiding the problems with overfitting that decision trees tend to have"
   ]
  }
 ],
 "metadata": {
  "kernelspec": {
   "display_name": "Python 3",
   "language": "python",
   "name": "python3"
  },
  "language_info": {
   "codemirror_mode": {
    "name": "ipython",
    "version": 3
   },
   "file_extension": ".py",
   "mimetype": "text/x-python",
   "name": "python",
   "nbconvert_exporter": "python",
   "pygments_lexer": "ipython3",
   "version": "3.6.4"
  }
 },
 "nbformat": 4,
 "nbformat_minor": 2
}
