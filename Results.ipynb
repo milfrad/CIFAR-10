{
 "cells": [
  {
   "cell_type": "code",
   "execution_count": 4,
   "metadata": {},
   "outputs": [
    {
     "data": {
      "text/html": [
       "<div>\n",
       "<style scoped>\n",
       "    .dataframe tbody tr th:only-of-type {\n",
       "        vertical-align: middle;\n",
       "    }\n",
       "\n",
       "    .dataframe tbody tr th {\n",
       "        vertical-align: top;\n",
       "    }\n",
       "\n",
       "    .dataframe thead th {\n",
       "        text-align: right;\n",
       "    }\n",
       "</style>\n",
       "<table border=\"1\" class=\"dataframe\">\n",
       "  <thead>\n",
       "    <tr style=\"text-align: right;\">\n",
       "      <th></th>\n",
       "      <th>model</th>\n",
       "      <th>test accuracy</th>\n",
       "    </tr>\n",
       "  </thead>\n",
       "  <tbody>\n",
       "    <tr>\n",
       "      <th>6</th>\n",
       "      <td>fc nn</td>\n",
       "      <td>0.832</td>\n",
       "    </tr>\n",
       "    <tr>\n",
       "      <th>5</th>\n",
       "      <td>logistic</td>\n",
       "      <td>0.828</td>\n",
       "    </tr>\n",
       "    <tr>\n",
       "      <th>3</th>\n",
       "      <td>svm linear</td>\n",
       "      <td>0.806</td>\n",
       "    </tr>\n",
       "    <tr>\n",
       "      <th>0</th>\n",
       "      <td>knn</td>\n",
       "      <td>0.781</td>\n",
       "    </tr>\n",
       "    <tr>\n",
       "      <th>2</th>\n",
       "      <td>random forest</td>\n",
       "      <td>0.778</td>\n",
       "    </tr>\n",
       "    <tr>\n",
       "      <th>7</th>\n",
       "      <td>cnn</td>\n",
       "      <td>0.761</td>\n",
       "    </tr>\n",
       "    <tr>\n",
       "      <th>4</th>\n",
       "      <td>svm rbf</td>\n",
       "      <td>0.710</td>\n",
       "    </tr>\n",
       "    <tr>\n",
       "      <th>1</th>\n",
       "      <td>decision tree</td>\n",
       "      <td>0.665</td>\n",
       "    </tr>\n",
       "  </tbody>\n",
       "</table>\n",
       "</div>"
      ],
      "text/plain": [
       "           model  test accuracy\n",
       "6          fc nn          0.832\n",
       "5       logistic          0.828\n",
       "3     svm linear          0.806\n",
       "0            knn          0.781\n",
       "2  random forest          0.778\n",
       "7            cnn          0.761\n",
       "4        svm rbf          0.710\n",
       "1  decision tree          0.665"
      ]
     },
     "execution_count": 4,
     "metadata": {},
     "output_type": "execute_result"
    }
   ],
   "source": [
    "# Collect the test accuracy of the models from above in a Results.ipynb notebook. You can use a DataFrame for instance.\n",
    "# I am rewriting the full results because I didn't realize I needed to save the test accuracies in a txt file at the end of each exercise, and therefore I would need to rerun all the code because I had already closed the notebooks. \n",
    "\n",
    "import pandas as pd\n",
    "\n",
    "results = pd.DataFrame({'model': ['knn', 'decision tree', 'random forest', 'svm linear', 'svm rbf', 'logistic', 'fc nn', 'cnn'], \n",
    "                        'test accuracy' : [0.781, 0.665, 0.778, 0.806, 0.710, 0.828, 0.832, 0.761]})\n",
    "results.sort_values(by='test accuracy', ascending=False)"
   ]
  },
  {
   "cell_type": "markdown",
   "metadata": {},
   "source": [
    "The model selected to fit the test data will be the fully connected neural network.\n",
    "The other candidate was the logistic regression, but the reasons that tipped the balance, in order of importance, are:\n",
    "- Large overfitting to the training set in the fc nn, yet higher accuracies for all the sets tested (validation, test). On the other hand, the logistic regression does not show signs of overfitting, as the test and cv-trained accuracies are basically the same.\n",
    "- Slightly higher accuracy on the test set of the fc nn compared to logistic"
   ]
  },
  {
   "cell_type": "code",
   "execution_count": null,
   "metadata": {},
   "outputs": [],
   "source": []
  }
 ],
 "metadata": {
  "kernelspec": {
   "display_name": "Python 3",
   "language": "python",
   "name": "python3"
  },
  "language_info": {
   "codemirror_mode": {
    "name": "ipython",
    "version": 3
   },
   "file_extension": ".py",
   "mimetype": "text/x-python",
   "name": "python",
   "nbconvert_exporter": "python",
   "pygments_lexer": "ipython3",
   "version": "3.6.4"
  }
 },
 "nbformat": 4,
 "nbformat_minor": 2
}
